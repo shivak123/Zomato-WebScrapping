{
 "cells": [
  {
   "cell_type": "code",
   "execution_count": 11,
   "metadata": {},
   "outputs": [
    {
     "name": "stdout",
     "output_type": "stream",
     "text": [
      "Collecting selenium\n",
      "  Downloading https://files.pythonhosted.org/packages/80/d6/4294f0b4bce4de0abf13e17190289f9d0613b0a44e5dd6a7f5ca98459853/selenium-3.141.0-py2.py3-none-any.whl (904kB)\n",
      "Requirement already satisfied: urllib3 in c:\\users\\shiva\\anaconda\\lib\\site-packages (from selenium) (1.24.1)\n",
      "Installing collected packages: selenium\n",
      "Successfully installed selenium-3.141.0\n"
     ]
    }
   ],
   "source": [
    "!pip install selenium"
   ]
  },
  {
   "cell_type": "code",
   "execution_count": 15,
   "metadata": {},
   "outputs": [],
   "source": [
    "import selenium"
   ]
  },
  {
   "cell_type": "code",
   "execution_count": 16,
   "metadata": {},
   "outputs": [],
   "source": [
    "from selenium import webdriver"
   ]
  },
  {
   "cell_type": "code",
   "execution_count": 17,
   "metadata": {},
   "outputs": [],
   "source": [
    "browser = webdriver.Chrome(\"chromedriver.exe\")"
   ]
  },
  {
   "cell_type": "code",
   "execution_count": 18,
   "metadata": {},
   "outputs": [],
   "source": [
    "url = \"https://www.zomato.com/hyderabad/great-food-no-bull\"\n",
    "browser.get(url)"
   ]
  },
  {
   "cell_type": "code",
   "execution_count": 55,
   "metadata": {},
   "outputs": [],
   "source": [
    "import time\n",
    "\n",
    "while True:\n",
    "    try:\n",
    "        browser.find_element_by_css_selector(\"div.load-more\").click()\n",
    "        time.sleep(2)\n",
    "    except:\n",
    "        break"
   ]
  },
  {
   "cell_type": "code",
   "execution_count": 20,
   "metadata": {},
   "outputs": [
    {
     "data": {
      "text/plain": [
       "88"
      ]
     },
     "execution_count": 20,
     "metadata": {},
     "output_type": "execute_result"
    }
   ],
   "source": [
    "res_tags= browser.find_elements_by_css_selector(\"div.relative.top-res-box.entity-ads-snippet-track\")\n",
    "len(res_tags)"
   ]
  },
  {
   "cell_type": "code",
   "execution_count": 27,
   "metadata": {},
   "outputs": [],
   "source": [
    "import pandas as pd"
   ]
  },
  {
   "cell_type": "code",
   "execution_count": 34,
   "metadata": {},
   "outputs": [
    {
     "data": {
      "text/html": [
       "<div>\n",
       "<style scoped>\n",
       "    .dataframe tbody tr th:only-of-type {\n",
       "        vertical-align: middle;\n",
       "    }\n",
       "\n",
       "    .dataframe tbody tr th {\n",
       "        vertical-align: top;\n",
       "    }\n",
       "\n",
       "    .dataframe thead th {\n",
       "        text-align: right;\n",
       "    }\n",
       "</style>\n",
       "<table border=\"1\" class=\"dataframe\">\n",
       "  <thead>\n",
       "    <tr style=\"text-align: right;\">\n",
       "      <th></th>\n",
       "      <th>food_type</th>\n",
       "      <th>location</th>\n",
       "      <th>rating</th>\n",
       "      <th>res_id</th>\n",
       "      <th>title</th>\n",
       "      <th>url</th>\n",
       "    </tr>\n",
       "  </thead>\n",
       "  <tbody>\n",
       "    <tr>\n",
       "      <th>0</th>\n",
       "      <td>Asian, Chinese, Continental, North Indian, Sou...</td>\n",
       "      <td>THE WESTIN HYDERABAD MINDSPACE, HITECH CITY, H...</td>\n",
       "      <td>4.5</td>\n",
       "      <td>91808</td>\n",
       "      <td>Seasonal Tastes - The Westin</td>\n",
       "      <td>https://www.zomato.com/hyderabad/seasonal-tast...</td>\n",
       "    </tr>\n",
       "    <tr>\n",
       "      <th>1</th>\n",
       "      <td>Cafe, Pizza</td>\n",
       "      <td>JUBILEE HILLS, HYDERABAD</td>\n",
       "      <td>4.6</td>\n",
       "      <td>19113153</td>\n",
       "      <td>Zozoz Pizzeria</td>\n",
       "      <td>https://www.zomato.com/hyderabad/zozoz-pizzeri...</td>\n",
       "    </tr>\n",
       "    <tr>\n",
       "      <th>2</th>\n",
       "      <td>Mediterranean, Italian, European, Salad</td>\n",
       "      <td>JUBILEE HILLS, HYDERABAD</td>\n",
       "      <td>4.5</td>\n",
       "      <td>93766</td>\n",
       "      <td>Olive Bistro</td>\n",
       "      <td>https://www.zomato.com/hyderabad/olive-bistro-...</td>\n",
       "    </tr>\n",
       "    <tr>\n",
       "      <th>3</th>\n",
       "      <td>Healthy Food, Salad, Desserts, Cafe</td>\n",
       "      <td>JUBILEE HILLS, HYDERABAD</td>\n",
       "      <td>4.6</td>\n",
       "      <td>18563817</td>\n",
       "      <td>Santè Spa Cuisine</td>\n",
       "      <td>https://www.zomato.com/hyderabad/sant%C3%A8-sp...</td>\n",
       "    </tr>\n",
       "    <tr>\n",
       "      <th>4</th>\n",
       "      <td>North Indian, Continental, Italian, Thai</td>\n",
       "      <td>HITECH CITY, HYDERABAD</td>\n",
       "      <td>4.5</td>\n",
       "      <td>19064101</td>\n",
       "      <td>TASALA</td>\n",
       "      <td>https://www.zomato.com/hyderabad/tasala-hitech...</td>\n",
       "    </tr>\n",
       "  </tbody>\n",
       "</table>\n",
       "</div>"
      ],
      "text/plain": [
       "                                           food_type  \\\n",
       "0  Asian, Chinese, Continental, North Indian, Sou...   \n",
       "1                                        Cafe, Pizza   \n",
       "2            Mediterranean, Italian, European, Salad   \n",
       "3                Healthy Food, Salad, Desserts, Cafe   \n",
       "4           North Indian, Continental, Italian, Thai   \n",
       "\n",
       "                                            location rating    res_id  \\\n",
       "0  THE WESTIN HYDERABAD MINDSPACE, HITECH CITY, H...    4.5     91808   \n",
       "1                           JUBILEE HILLS, HYDERABAD    4.6  19113153   \n",
       "2                           JUBILEE HILLS, HYDERABAD    4.5     93766   \n",
       "3                           JUBILEE HILLS, HYDERABAD    4.6  18563817   \n",
       "4                             HITECH CITY, HYDERABAD    4.5  19064101   \n",
       "\n",
       "                          title  \\\n",
       "0  Seasonal Tastes - The Westin   \n",
       "1                Zozoz Pizzeria   \n",
       "2                  Olive Bistro   \n",
       "3             Santè Spa Cuisine   \n",
       "4                        TASALA   \n",
       "\n",
       "                                                 url  \n",
       "0  https://www.zomato.com/hyderabad/seasonal-tast...  \n",
       "1  https://www.zomato.com/hyderabad/zozoz-pizzeri...  \n",
       "2  https://www.zomato.com/hyderabad/olive-bistro-...  \n",
       "3  https://www.zomato.com/hyderabad/sant%C3%A8-sp...  \n",
       "4  https://www.zomato.com/hyderabad/tasala-hitech...  "
      ]
     },
     "execution_count": 34,
     "metadata": {},
     "output_type": "execute_result"
    }
   ],
   "source": [
    "restaurent = pd.DataFrame()\n",
    "for res in res_tags:\n",
    "    title= res.find_element_by_css_selector(\"div.res_title\").text\n",
    "    loc = res.find_element_by_css_selector(\"div.nowrap.grey-text.fontsize5.ttupper\").text\n",
    "    food_type = res.find_elements_by_css_selector(\"div.nowrap.grey-text\")\n",
    "    food_type= food_type[1].text\n",
    "    res_id = res.get_attribute(\"data-res-id\")\n",
    "    url= res.find_element_by_css_selector(\"a[data-link-type]\")\n",
    "    url=url.get_attribute(\"href\")\n",
    "    rating = res.get_attribute(\"data-rating\")\n",
    "    curr_res = {\"title\":title,\"location\":loc,\"food_type\":food_type,\"res_id\":res_id,\"rating\":rating,\"url\":url}\n",
    "    restaurent=restaurent.append(curr_res,ignore_index=True,)\n",
    "restaurent.head()"
   ]
  },
  {
   "cell_type": "code",
   "execution_count": 53,
   "metadata": {},
   "outputs": [],
   "source": [
    "url = restaurent.loc[4,\"url\"]\n",
    "browser.get(url)"
   ]
  },
  {
   "cell_type": "code",
   "execution_count": 49,
   "metadata": {},
   "outputs": [],
   "source": []
  },
  {
   "cell_type": "code",
   "execution_count": 56,
   "metadata": {},
   "outputs": [],
   "source": [
    "df_reviews= pd.DataFrame()\n",
    "sel = \"div.ui.segment.clearfix.brtop\"\n",
    "review_tags= browser.find_elements_by_css_selector(sel)\n",
    "#res_id = restaurent.loc[0,\"res_id\"]\n",
    "for reviews in review_tags:\n",
    "    rev_name= reviews.find_element_by_css_selector(\"a[data-entity_id]\").text\n",
    "    rev_id = reviews.find_element_by_css_selector(\"a[data-entity_id]\").get_attribute(\"data-entity_id\")\n",
    "    sel = \"span.grey-text.fontsize5.nowrap\"\n",
    "    rev_count= reviews.find_element_by_css_selector(sel).text\n",
    "    date = reviews.find_element_by_css_selector(\"time\").get_attribute(\"datatime\")\n",
    "    rating_sel = \"div.ttupper.fs12px.left.bold.zdhl2.tooltip\"\n",
    "    rating = reviews.find_element_by_css_selector(rating_sel).get_attribute(\"aria-label\")\n",
    "    text= reviews.find_element_by_css_selector(\"div.rev-text\").text\n",
    "    df_reviews=df_reviews.append({\"rev_name\":rev_name,\n",
    "                                 \"rev_id\":rev_id,\n",
    "                                 \"rev_count\":rev_count,\n",
    "                                 \"date\":date,\n",
    "                                 \"rating\":rating,\n",
    "                                 \"text\":text},ignore_index=True)"
   ]
  },
  {
   "cell_type": "code",
   "execution_count": 58,
   "metadata": {},
   "outputs": [
    {
     "data": {
      "text/plain": [
       "(48, 6)"
      ]
     },
     "execution_count": 58,
     "metadata": {},
     "output_type": "execute_result"
    }
   ],
   "source": [
    "df_reviews.shape"
   ]
  },
  {
   "cell_type": "code",
   "execution_count": 62,
   "metadata": {},
   "outputs": [],
   "source": [
    "def get_restaurent_reviews(browser,url):\n",
    "    browser.get(url)\n",
    "    while True:\n",
    "        try:\n",
    "            browser.find_element_by_css_selector(\"div.load-more\").click()\n",
    "            time.sleep(2)\n",
    "        except:\n",
    "            break\n",
    "    df_reviews= pd.DataFrame()\n",
    "    sel = \"div.ui.segment.clearfix.brtop\"\n",
    "    review_tags= browser.find_elements_by_css_selector(sel)\n",
    "    #res_id = restaurent.loc[0,\"res_id\"]\n",
    "    for reviews in review_tags:\n",
    "        rev_name= reviews.find_element_by_css_selector(\"a[data-entity_id]\").text\n",
    "        rev_id = reviews.find_element_by_css_selector(\"a[data-entity_id]\").get_attribute(\"data-entity_id\")\n",
    "        sel = \"span.grey-text.fontsize5.nowrap\"\n",
    "        rev_count= reviews.find_element_by_css_selector(sel).text\n",
    "        date = reviews.find_element_by_css_selector(\"time\").get_attribute(\"datatime\")\n",
    "        rating_sel = \"div.ttupper.fs12px.left.bold.zdhl2.tooltip\"\n",
    "        rating = reviews.find_element_by_css_selector(rating_sel).get_attribute(\"aria-label\")\n",
    "        text= reviews.find_element_by_css_selector(\"div.rev-text\").text\n",
    "        df_reviews=df_reviews.append({\"rev_name\":rev_name,\n",
    "                                     \"rev_id\":rev_id,\n",
    "                                     \"rev_count\":rev_count,\n",
    "                                     \"date\":date,\n",
    "                                     \"rating\":rating,\n",
    "                                     \"text\":text},ignore_index=True)\n",
    "        return df_reviews"
   ]
  },
  {
   "cell_type": "code",
   "execution_count": 70,
   "metadata": {},
   "outputs": [],
   "source": [
    "all_res_review= pd.DataFrame()\n",
    "for index,res in restaurent.head(50).iterrows():\n",
    "    try:\n",
    "        res_reviews = get_restaurent_reviews(browser,res[\"url\"])\n",
    "        res_reviews[\"res_name\"]=res[\"title\"]\n",
    "        res_reviews[\"res_id\"]=res[\"res_id\"]\n",
    "        all_res_review= all_res_review.append(res_reviews,ignore_index=True)\n",
    "        all_res_review.shape\n",
    "    except:\n",
    "        pass"
   ]
  },
  {
   "cell_type": "code",
   "execution_count": 75,
   "metadata": {},
   "outputs": [
    {
     "data": {
      "text/html": [
       "<div>\n",
       "<style scoped>\n",
       "    .dataframe tbody tr th:only-of-type {\n",
       "        vertical-align: middle;\n",
       "    }\n",
       "\n",
       "    .dataframe tbody tr th {\n",
       "        vertical-align: top;\n",
       "    }\n",
       "\n",
       "    .dataframe thead th {\n",
       "        text-align: right;\n",
       "    }\n",
       "</style>\n",
       "<table border=\"1\" class=\"dataframe\">\n",
       "  <thead>\n",
       "    <tr style=\"text-align: right;\">\n",
       "      <th></th>\n",
       "      <th>date</th>\n",
       "      <th>rating</th>\n",
       "      <th>rev_count</th>\n",
       "      <th>rev_id</th>\n",
       "      <th>rev_name</th>\n",
       "      <th>text</th>\n",
       "      <th>res_name</th>\n",
       "      <th>res_id</th>\n",
       "    </tr>\n",
       "  </thead>\n",
       "  <tbody>\n",
       "    <tr>\n",
       "      <th>0</th>\n",
       "      <td>None</td>\n",
       "      <td>Rated 5.0</td>\n",
       "      <td>105 Reviews , 1210 Followers</td>\n",
       "      <td>38715577</td>\n",
       "      <td>Deepali Bohra</td>\n",
       "      <td></td>\n",
       "      <td>Seasonal Tastes - The Westin</td>\n",
       "      <td>91808</td>\n",
       "    </tr>\n",
       "    <tr>\n",
       "      <th>1</th>\n",
       "      <td>None</td>\n",
       "      <td>Rated 3.0</td>\n",
       "      <td>76 Reviews , 154 Followers</td>\n",
       "      <td>71442666</td>\n",
       "      <td>Food&amp;Bikes (FaB)</td>\n",
       "      <td></td>\n",
       "      <td>Zozoz Pizzeria</td>\n",
       "      <td>19113153</td>\n",
       "    </tr>\n",
       "    <tr>\n",
       "      <th>2</th>\n",
       "      <td>None</td>\n",
       "      <td>Rated 4.5</td>\n",
       "      <td>297 Reviews , 3567 Followers</td>\n",
       "      <td>33376100</td>\n",
       "      <td>_thefoodtrip_</td>\n",
       "      <td>RATED\\n  This is a beautiful place and one of ...</td>\n",
       "      <td>Olive Bistro</td>\n",
       "      <td>93766</td>\n",
       "    </tr>\n",
       "    <tr>\n",
       "      <th>3</th>\n",
       "      <td>None</td>\n",
       "      <td>Rated 3.0</td>\n",
       "      <td>65 Reviews , 257 Followers</td>\n",
       "      <td>91052</td>\n",
       "      <td>Hardik Parekh</td>\n",
       "      <td>RATED\\n  Being one of the many high rated rest...</td>\n",
       "      <td>TASALA</td>\n",
       "      <td>19064101</td>\n",
       "    </tr>\n",
       "    <tr>\n",
       "      <th>4</th>\n",
       "      <td>None</td>\n",
       "      <td>Rated 5.0</td>\n",
       "      <td>19 Reviews , 108 Followers</td>\n",
       "      <td>29627013</td>\n",
       "      <td>Katkar Jyothsna</td>\n",
       "      <td>RATED\\n  When you want to try something differ...</td>\n",
       "      <td>Piccolo Gelato</td>\n",
       "      <td>18616468</td>\n",
       "    </tr>\n",
       "  </tbody>\n",
       "</table>\n",
       "</div>"
      ],
      "text/plain": [
       "   date     rating                     rev_count    rev_id          rev_name  \\\n",
       "0  None  Rated 5.0  105 Reviews , 1210 Followers  38715577     Deepali Bohra   \n",
       "1  None  Rated 3.0    76 Reviews , 154 Followers  71442666  Food&Bikes (FaB)   \n",
       "2  None  Rated 4.5  297 Reviews , 3567 Followers  33376100     _thefoodtrip_   \n",
       "3  None  Rated 3.0    65 Reviews , 257 Followers     91052     Hardik Parekh   \n",
       "4  None  Rated 5.0    19 Reviews , 108 Followers  29627013   Katkar Jyothsna   \n",
       "\n",
       "                                                text  \\\n",
       "0                                                      \n",
       "1                                                      \n",
       "2  RATED\\n  This is a beautiful place and one of ...   \n",
       "3  RATED\\n  Being one of the many high rated rest...   \n",
       "4  RATED\\n  When you want to try something differ...   \n",
       "\n",
       "                       res_name    res_id  \n",
       "0  Seasonal Tastes - The Westin     91808  \n",
       "1                Zozoz Pizzeria  19113153  \n",
       "2                  Olive Bistro     93766  \n",
       "3                        TASALA  19064101  \n",
       "4                Piccolo Gelato  18616468  "
      ]
     },
     "execution_count": 75,
     "metadata": {},
     "output_type": "execute_result"
    }
   ],
   "source": [
    "all_res_review.head()"
   ]
  },
  {
   "cell_type": "code",
   "execution_count": null,
   "metadata": {},
   "outputs": [],
   "source": []
  }
 ],
 "metadata": {
  "kernelspec": {
   "display_name": "Python 3",
   "language": "python",
   "name": "python3"
  },
  "language_info": {
   "codemirror_mode": {
    "name": "ipython",
    "version": 3
   },
   "file_extension": ".py",
   "mimetype": "text/x-python",
   "name": "python",
   "nbconvert_exporter": "python",
   "pygments_lexer": "ipython3",
   "version": "3.7.1"
  }
 },
 "nbformat": 4,
 "nbformat_minor": 2
}
